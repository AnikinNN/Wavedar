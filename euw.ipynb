{
 "cells": [
  {
   "cell_type": "code",
   "execution_count": null,
   "id": "696998f5-84cd-4900-8493-3b163b70603a",
   "metadata": {},
   "outputs": [],
   "source": [
    "import torch\n",
    "from torchvision import transforms\n",
    "import numpy as np\n",
    "import pandas as pd\n",
    "from torchvision.utils import make_grid\n",
    "import matplotlib.pyplot as plt\n",
    "\n",
    "import os, sys\n",
    "\n",
    "sys.path.append(os.path.join(os.getcwd(), '../..'))\n",
    "\n",
    "from ml_stuff.metadata_loader import MetadataLoader\n",
    "from ml_stuff.batch_generator import WaveDataset\n",
    "from ml_stuff.batch_factory import BatchFactory\n",
    "\n",
    "from tqdm import tqdm, trange\n",
    "plt.rcParams['figure.dpi'] = 200"
   ]
  },
  {
   "cell_type": "code",
   "execution_count": null,
   "id": "19dff766-79a7-4b4c-a44e-215329516133",
   "metadata": {},
   "outputs": [],
   "source": [
    "mdl = MetadataLoader.init_using_data_dir('/storage/kubrick/suslovai/DATA/input_nn/')"
   ]
  },
  {
   "cell_type": "raw",
   "id": "2ff30daa-4f5b-4b0c-985f-ced89811d2b6",
   "metadata": {
    "tags": []
   },
   "source": [
    "plt.hist(mdl.all_df['h'].tolist(), bins=100, density=True)\n",
    "plt.xlabel('significant_wave_height, m')"
   ]
  },
  {
   "cell_type": "raw",
   "id": "5e9019f4-0f0d-4788-914a-9aaebe8515da",
   "metadata": {},
   "source": [
    "for station in mdl.all_df['station'].unique():\n",
    "    selection = mdl.all_df['station'] == station\n",
    "    time_since_start = mdl.all_df[selection]['buoy_datetime'] - mdl.all_df[selection]['buoy_datetime'].min()\n",
    "    plt.plot(time_since_start, mdl.all_df[selection]['h'], label=station)\n",
    "\n",
    "plt.xlabel('time_since_start, ns')\n",
    "plt.ylabel('significant_wave_height, m')\n",
    "plt.legend()"
   ]
  },
  {
   "cell_type": "raw",
   "id": "4119592c-263d-49b6-9f98-bdcc8441c1cd",
   "metadata": {},
   "source": [
    "for df, style in ((mdl.train, 'r-'), (mdl.validation, 'g-'), (mdl.test, 'b-')):\n",
    "    for station in df['station'].unique():\n",
    "        min_time = mdl.all_df[mdl.all_df['station'] == station]['buoy_datetime'].min()\n",
    "        selection = df['station'] == station\n",
    "        time_since_start = (df[selection]['buoy_datetime'] - min_time)\n",
    "        plt.plot(time_since_start, df[selection]['h'], style, label=station)\n",
    "\n",
    "plt.xlabel('time_since_start, ns')\n",
    "plt.ylabel('significant_wave_height, m')"
   ]
  },
  {
   "cell_type": "code",
   "execution_count": null,
   "id": "b41ddf45-8d15-4745-873d-a4554731ba8a",
   "metadata": {},
   "outputs": [],
   "source": [
    "dataset = WaveDataset(mdl.train)"
   ]
  },
  {
   "cell_type": "code",
   "execution_count": null,
   "id": "2cad2c70-7de1-480a-b959-01821cdb0d62",
   "metadata": {},
   "outputs": [],
   "source": [
    "factory = BatchFactory(dataset=dataset, \n",
    "             cuda_device='cuda:2', do_augment=True,\n",
    "            )"
   ]
  },
  {
   "cell_type": "code",
   "execution_count": null,
   "id": "3df94645-d1b5-4dc2-a479-db6fd87e560f",
   "metadata": {},
   "outputs": [],
   "source": [
    "factory.cpu_queue.qsize()"
   ]
  },
  {
   "cell_type": "code",
   "execution_count": null,
   "id": "b496a5c4-878e-4d5c-92c7-9220c881d08f",
   "metadata": {},
   "outputs": [],
   "source": [
    "batch = factory.cuda_queue.get()"
   ]
  },
  {
   "cell_type": "code",
   "execution_count": null,
   "id": "3a30b732-94e9-4a32-b28f-d113082ee526",
   "metadata": {},
   "outputs": [],
   "source": [
    "# factory.stop()"
   ]
  },
  {
   "cell_type": "code",
   "execution_count": null,
   "id": "87c346ab-4f30-498e-b89b-19b14a05db76",
   "metadata": {},
   "outputs": [],
   "source": [
    "batch"
   ]
  },
  {
   "cell_type": "code",
   "execution_count": null,
   "id": "4ceb486c-7d23-44a5-82a5-b4483f791146",
   "metadata": {},
   "outputs": [],
   "source": [
    "def show(imgs):\n",
    "    imgs = make_grid(imgs)\n",
    "    if not isinstance(imgs, list):\n",
    "        imgs = [imgs]\n",
    "    fix, axs = plt.subplots(ncols=len(imgs), squeeze=False)\n",
    "    for i, img in enumerate(imgs):\n",
    "        img = img.detach().cpu()\n",
    "        img = transforms.functional.to_pil_image(img)\n",
    "        axs[0, i].imshow(np.asarray(img))\n",
    "        axs[0, i].set(xticklabels=[], yticklabels=[], xticks=[], yticks=[])"
   ]
  },
  {
   "cell_type": "code",
   "execution_count": null,
   "id": "48e62dcc-4860-4b4c-be05-6f48520b14c3",
   "metadata": {},
   "outputs": [],
   "source": [
    "show(batch.images[:4])"
   ]
  },
  {
   "cell_type": "code",
   "execution_count": null,
   "id": "b98ebb9d-71d5-4497-a1d4-0b69c7b51d13",
   "metadata": {},
   "outputs": [],
   "source": [
    "def my_show(imgs: torch.Tensor):\n",
    "    imgs = imgs.detach().cpu().numpy()\n",
    "    fig = plt.figure()\n",
    "    fig.set_tight_layout(tight={'pad': -0.1,})\n",
    "    square_size = np.ceil(np.sqrt(imgs.shape[0])).astype(int)\n",
    "    \n",
    "    for i in range(imgs.shape[0]):\n",
    "        ax = fig.add_subplot(square_size, square_size, i + 1)\n",
    "        ax.imshow(imgs[i, 0, :, :], cmap='gray')\n",
    "        ax.set(xticklabels=[], yticklabels=[], xticks=[], yticks=[])"
   ]
  },
  {
   "cell_type": "code",
   "execution_count": null,
   "id": "b37fcaca-0a0b-4feb-bb77-2843e5f6662e",
   "metadata": {},
   "outputs": [],
   "source": [
    "my_show(batch.images[:9])"
   ]
  },
  {
   "cell_type": "code",
   "execution_count": null,
   "id": "666819ef-5715-4f1d-84cb-1c1ee2ff6750",
   "metadata": {},
   "outputs": [],
   "source": []
  }
 ],
 "metadata": {
  "kernelspec": {
   "display_name": "Python 3 (ipykernel)",
   "language": "python",
   "name": "python3"
  },
  "language_info": {
   "codemirror_mode": {
    "name": "ipython",
    "version": 3
   },
   "file_extension": ".py",
   "mimetype": "text/x-python",
   "name": "python",
   "nbconvert_exporter": "python",
   "pygments_lexer": "ipython3",
   "version": "3.9.12"
  }
 },
 "nbformat": 4,
 "nbformat_minor": 5
}
